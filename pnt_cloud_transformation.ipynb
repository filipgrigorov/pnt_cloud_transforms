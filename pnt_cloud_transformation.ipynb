{
 "cells": [
  {
   "cell_type": "code",
   "execution_count": 1,
   "metadata": {},
   "outputs": [],
   "source": [
    "import numpy as np\n",
    "import seaborn as sns"
   ]
  },
  {
   "cell_type": "code",
   "execution_count": 5,
   "metadata": {},
   "outputs": [],
   "source": [
    "pnts1 = np.array([]) # A\n",
    "pnts2 = np.array([]) # B"
   ]
  },
  {
   "cell_type": "code",
   "execution_count": 15,
   "metadata": {},
   "outputs": [
    {
     "data": {
      "text/plain": [
       "'\\n    Now, we need to minimize the geometric difference between the A set and the B set:\\n    AR + t = B => min[SUM_i( a_iR + t - b_i )**2] where a_i and b_i are 3D points or 2D points\\n    \\n    Then, we need to isolate the rotation, so we can solve the system of equations, by subtracting with the centroid (standrdizing over the centroid):\\n    A_c = SUM_i(a_i) / len(A)\\n    B_c = Sum_i(b_i) / len(B)\\n    \\n    A_n = A - A_c\\n    B_n = B - B_c\\n    \\n    \\n'"
      ]
     },
     "execution_count": 15,
     "metadata": {},
     "output_type": "execute_result"
    }
   ],
   "source": [
    "'''\n",
    "    Now, we need to minimize the geometric difference between the A set and the B set:\n",
    "    AR + t = B => min[SUM_i( a_iR + t - b_i )**2] where a_i and b_i are 3D points or 2D points\n",
    "    \n",
    "    Then, we need to isolate the rotation, so we can solve the system of equations, by subtracting with the centroid (standrdizing over the centroid):\n",
    "    A_c = SUM_i(a_i) / len(A)\n",
    "    B_c = Sum_i(b_i) / len(B)\n",
    "    \n",
    "    A_n = A - A_c\n",
    "    B_n = B - B_c\n",
    "    \n",
    "    \n",
    "'''"
   ]
  }
 ],
 "metadata": {
  "kernelspec": {
   "display_name": "Python 3",
   "language": "python",
   "name": "python3"
  },
  "language_info": {
   "codemirror_mode": {
    "name": "ipython",
    "version": 3
   },
   "file_extension": ".py",
   "mimetype": "text/x-python",
   "name": "python",
   "nbconvert_exporter": "python",
   "pygments_lexer": "ipython3",
   "version": "3.7.9"
  }
 },
 "nbformat": 4,
 "nbformat_minor": 4
}
